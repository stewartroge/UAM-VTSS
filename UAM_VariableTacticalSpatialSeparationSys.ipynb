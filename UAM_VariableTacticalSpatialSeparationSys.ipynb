{
  "nbformat": 4,
  "nbformat_minor": 0,
  "metadata": {
    "colab": {
      "provenance": [],
      "toc_visible": true,
      "authorship_tag": "ABX9TyP7KPjKD95A2IAHJOmqzMUZ",
      "include_colab_link": true
    },
    "kernelspec": {
      "name": "python3",
      "display_name": "Python 3"
    },
    "language_info": {
      "name": "python"
    }
  },
  "cells": [
    {
      "cell_type": "markdown",
      "metadata": {
        "id": "view-in-github",
        "colab_type": "text"
      },
      "source": [
        "<a href=\"https://colab.research.google.com/github/stewartroge/UAM-VTSS/blob/main/UAM_VariableTacticalSpatialSeparationSys.ipynb\" target=\"_parent\"><img src=\"https://colab.research.google.com/assets/colab-badge.svg\" alt=\"Open In Colab\"/></a>"
      ]
    },
    {
      "cell_type": "markdown",
      "source": [
        "# UAM Variable Tactical Separation System"
      ],
      "metadata": {
        "id": "5p3KVRZuU0f7"
      }
    },
    {
      "cell_type": "code",
      "source": [
        "import random\n",
        "import numpy as np\n",
        "from math import cos, sin, atan2, pi"
      ],
      "metadata": {
        "id": "oXVXlUo4WU3I"
      },
      "execution_count": 1,
      "outputs": []
    },
    {
      "cell_type": "markdown",
      "source": [
        "# UAM conflict Detection"
      ],
      "metadata": {
        "id": "uIsR-M5IWpsV"
      }
    },
    {
      "cell_type": "code",
      "source": [
        "# Conflict detection is necessary for UAM air traffic Management as matter of Flight and operation safety\n",
        "\n",
        "def conflict_detection(ownship, target, D, H, T):\n",
        "    sx = abs(ownship['position'][0] - target['position'][0])\n",
        "    sy = abs(ownship['position'][1] - target['position'][1])\n",
        "    sz = abs(ownship['position'][2] - target['position'][2])\n",
        "    vx = ownship['velocity'][0] - target['velocity'][0]\n",
        "    vy = ownship['velocity'][1] - target['velocity'][1]\n",
        "    vz = ownship['velocity'][2] - target['velocity'][2]\n",
        "\n",
        "    if vx ** 2 + vy ** 2 == 0:\n",
        "        if sx ** 2 + sy ** 2 < D ** 2:\n",
        "            if abs(sz) < H:\n",
        "                return True\n",
        "            elif vz * sz < 0 and -H < vz * (T * vz + sz):\n",
        "                return True\n",
        "    else:\n",
        "        a = vx ** 2 + vy ** 2\n",
        "        b = 2 * (sx * vx + sy * vy)\n",
        "        c = sx ** 2 + sy ** 2 - D ** 2\n",
        "        discriminant = b ** 2 - 4 * a * c\n",
        "        if discriminant >= 0:\n",
        "            tDin = (-b - np.sqrt(discriminant)) / (2 * a)\n",
        "            tDout = (-b + np.sqrt(discriminant)) / (2 * a)\n",
        "            if abs(sz) < H and tDout > 0 and tDin < T:\n",
        "                return True\n",
        "            tHin = (H - sz) / vz if vz != 0 else float('inf')\n",
        "            tHout = (-H - sz) / vz if vz != 0 else float('inf')\n",
        "            tin = max(tDin, tHin)\n",
        "            tout = min(tDout, tHout)\n",
        "            if tin < tout and tout > 0 and tin < T:\n",
        "                return True\n",
        "    return False\n"
      ],
      "metadata": {
        "id": "5ae2JVXMW0xt"
      },
      "execution_count": 3,
      "outputs": []
    },
    {
      "cell_type": "markdown",
      "source": [
        "# Wind Effects"
      ],
      "metadata": {
        "id": "zp0TggF-Xhje"
      }
    },
    {
      "cell_type": "code",
      "source": [
        "# Wind affects the flight of UAM evTOLs thus for purposes of realism and add complexity,the effects of wind and gusts are incorporated into the"
      ],
      "metadata": {
        "id": "9sfpOIpeX_dF"
      },
      "execution_count": null,
      "outputs": []
    },
    {
      "cell_type": "code",
      "source": [
        "def apply_wind_effect(velocity, wind_speed, wind_direction):\n",
        "    # Calculate wind components in the UAM's velocity direction\n",
        "    wind_component = wind_speed * cos(wind_direction - atan2(velocity[1], velocity[0]))\n",
        "\n",
        "    # Adjust velocity components with wind effect\n",
        "    velocity[0] += wind_component * cos(wind_direction)\n",
        "    velocity[1] += wind_component * sin(wind_direction)\n",
        "    return velocity\n"
      ],
      "metadata": {
        "id": "h6X7v0HQYbtK"
      },
      "execution_count": 4,
      "outputs": []
    },
    {
      "cell_type": "markdown",
      "source": [
        "Wind is modeled as a mathematical function of velocity, wind speed and direction and inherently randomized for better realism"
      ],
      "metadata": {
        "id": "5HN3lfM5YjaZ"
      }
    },
    {
      "cell_type": "markdown",
      "source": [
        "# VTSS primary Function"
      ],
      "metadata": {
        "id": "taguZlSAZEoM"
      }
    },
    {
      "cell_type": "markdown",
      "source": [
        "This is central algorithm that processes the input parameters to give an output of required variables that determine airspace allocation"
      ],
      "metadata": {
        "id": "O2OOWcGCZK0C"
      }
    },
    {
      "cell_type": "code",
      "source": [
        "def VTSS_UAM_algorithm(airspace_volume, UAM_speeds, protection_radius, design_separation, num_corridors, num_layers,\n",
        "                       max_altitude, T):\n",
        "    # Calculate corridor width\n",
        "    corridor_width = (airspace_volume / num_corridors) ** (1 / 3)\n",
        "\n",
        "    # Calculate lateral separation\n",
        "    lateral_separation = corridor_width / 2 + 230\n",
        "\n",
        "    # Calculate vertical separation\n",
        "    vertical_separation = (max_altitude - protection_radius) / (num_layers - 1) + 300\n",
        "    vertical_separation = max(vertical_separation, protection_radius)\n",
        "\n",
        "    # Calculate longitudinal separation\n",
        "    longitudinal_separation = corridor_width + 560\n",
        "\n",
        "    # Calculate maximum number of vehicles that can fit in the airspace volume\n",
        "    max_vehicles = int(airspace_volume / (corridor_width * vertical_separation * longitudinal_separation))\n",
        "\n",
        "    # Create list to store positions and velocities of UAM vehicles\n",
        "    vehicle_list = []\n",
        "\n",
        "    # Generate random initial positions and velocities for vehicles within corridors, layers, and longitudinal segments\n",
        "    for i in range(num_corridors):\n",
        "        for j in range(num_layers):\n",
        "            for k in range(max_vehicles):\n",
        "                x = i * corridor_width + random.random() * corridor_width\n",
        "                y = j * vertical_separation + random.random() * vertical_separation\n",
        "                z = k * longitudinal_separation + random.random() * longitudinal_separation\n",
        "\n",
        "                initial_position = [x, y, z]\n",
        "                initial_velocity = [random.uniform(0, UAM_speeds[j]), random.uniform(0, UAM_speeds[j]), 0]\n",
        "\n",
        "                vehicle_list.append({\n",
        "                    'position': initial_position,\n",
        "                    'velocity': initial_velocity,\n",
        "                    'corridor': i,\n",
        "                    'layer': j,\n",
        "                    'longitudinal': z\n",
        "                })\n",
        "\n",
        "    # Apply wind effect to UAMs' velocities\n",
        "    for vehicle in vehicle_list:\n",
        "        wind_speed = random.uniform(0, 5)  # Example wind speed range\n",
        "        wind_direction = random.uniform(0, 2 * pi)  # Example wind direction range\n",
        "        vehicle['velocity'] = apply_wind_effect(vehicle['velocity'], wind_speed, wind_direction)\n",
        "\n",
        "    # Count the number of conflicts\n",
        "    conflicts = []\n",
        "    for i in range(len(vehicle_list)):\n",
        "        for j in range(i + 1, len(vehicle_list)):\n",
        "            if conflict_detection(vehicle_list[i], vehicle_list[j], design_separation, vertical_separation, T):\n",
        "                conflicts.append((i, j))\n",
        "    num_conflicts = len(conflicts)\n",
        "\n",
        "    # Calculate conflict rate\n",
        "    conflict_rate = num_conflicts / (max_vehicles * (max_vehicles - 1) / 2)\n",
        "\n",
        "    # Calculate time needed to resolve conflicts using 3D distances and velocities\n",
        "    time_to_resolve = np.max(\n",
        "        [np.linalg.norm(np.array(vehicle_list[i]['position']) - np.array(vehicle_list[j]['position']))\n",
        "         / np.linalg.norm(np.array(vehicle_list[i]['velocity']) - np.array(vehicle_list[j]['velocity']))\n",
        "         for i, j in conflicts]) if conflicts else 0\n",
        "\n",
        "    # Return the final values\n",
        "    return vertical_separation, lateral_separation, longitudinal_separation, conflict_rate, time_to_resolve, max_vehicles\n"
      ],
      "metadata": {
        "id": "K_osZ1sOaLOO"
      },
      "execution_count": 5,
      "outputs": []
    },
    {
      "cell_type": "markdown",
      "source": [
        "# Input Parameters for the VTSS Algorithm"
      ],
      "metadata": {
        "id": "PDAdTQrDaoQU"
      }
    },
    {
      "cell_type": "code",
      "source": [
        "#  input parameters\n",
        "airspace_volume = 556800000000\n",
        "UAM_speeds = [30, 30, 30, 30, 30, 30, 30, 30, 30, 30, 30, 30, 30, 30, 30, 30]  # velocities for each UAM in each layer\n",
        "protection_radius = 26\n",
        "CPA = 90\n",
        "num_corridors = 14\n",
        "num_layers = 10\n",
        "max_altitude = 800\n",
        "T = 300  # Lookahead time in seconds\n",
        "\n",
        "# Run the algorithm\n",
        "vertical_separation, lateral_separation, longitudinal_separation, conflict_rate, time_to_resolve, max_vehicles = VTSS_UAM_algorithm(\n",
        "    airspace_volume,\n",
        "    UAM_speeds,\n",
        "    protection_radius,\n",
        "    CPA,\n",
        "    num_corridors,\n",
        "    num_layers,\n",
        "    max_altitude,\n",
        "    T)\n"
      ],
      "metadata": {
        "id": "k8X8Egmmawlc"
      },
      "execution_count": 6,
      "outputs": []
    },
    {
      "cell_type": "markdown",
      "source": [
        "# Output Variables of the Model"
      ],
      "metadata": {
        "id": "8OoqEgVjbFxp"
      }
    },
    {
      "cell_type": "code",
      "source": [
        "print(f\"Conflict Rate: {conflict_rate:.4f}\")\n",
        "print(f\"Time to Resolve Conflicts: {time_to_resolve:.2f} seconds\")\n",
        "print(f\"Lateral Separation: {lateral_separation:.2f} meters\")\n",
        "print(f\"Vertical Separation: {vertical_separation:.2f} meters\")\n",
        "print(f\"Longitudinal Separation: {longitudinal_separation:.2f} meters\")\n",
        "print(f\"Maximum Number of Vehicles: {max_vehicles}\")\n"
      ],
      "metadata": {
        "colab": {
          "base_uri": "https://localhost:8080/"
        },
        "id": "3JLwqJrZbOt5",
        "outputId": "16e89121-d27b-4984-d680-6c09203a434a"
      },
      "execution_count": 7,
      "outputs": [
        {
          "output_type": "stream",
          "name": "stdout",
          "text": [
            "Conflict Rate: 0.0721\n",
            "Time to Resolve Conflicts: 313.73 seconds\n",
            "Lateral Separation: 1936.71 meters\n",
            "Vertical Separation: 386.00 meters\n",
            "Longitudinal Separation: 3973.43 meters\n",
            "Maximum Number of Vehicles: 106\n"
          ]
        }
      ]
    }
  ]
}